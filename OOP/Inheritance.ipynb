{
 "cells": [
  {
   "cell_type": "code",
   "execution_count": 9,
   "id": "bf306e59",
   "metadata": {},
   "outputs": [],
   "source": [
    "class Animal():\n",
    "\n",
    "    alive = True\n",
    "\n",
    "    def eat(self):\n",
    "        print('This animal is eating!')\n",
    "\n",
    "    def sleep(self):\n",
    "        print('This animal is sleeing!')\n",
    "    \n",
    "\n",
    "class Rabbit(Animal):  # Rabbit is the child class of Animal\n",
    "\n",
    "    def run(self):\n",
    "        print('This rubbit is running!')\n",
    "\n",
    "class Fish(Animal):    # Fish is the child class of Animal\n",
    "\n",
    "    def swim(self):\n",
    "        print('This fish is swimming!')\n",
    "\n",
    "class Hawk(Animal):     # Hawk is the child class of Animal\n",
    "\n",
    "    def fly(self):\n",
    "        print('This hawk is flying!')\n",
    "\n",
    "\n",
    "rabbit = Rabbit()\n",
    "fish = Fish()\n",
    "hawk = Hawk()"
   ]
  },
  {
   "cell_type": "code",
   "execution_count": 14,
   "id": "ac5f929c",
   "metadata": {},
   "outputs": [
    {
     "name": "stdout",
     "output_type": "stream",
     "text": [
      "True\n",
      "This animal is eating!\n",
      "This animal is eating!\n",
      "This animal is sleeing!\n"
     ]
    }
   ],
   "source": [
    "print(rabbit.alive)\n",
    "rabbit.eat()\n",
    "fish.eat()\n",
    "hawk.sleep()"
   ]
  },
  {
   "cell_type": "code",
   "execution_count": 15,
   "id": "2ab934a5",
   "metadata": {},
   "outputs": [
    {
     "name": "stdout",
     "output_type": "stream",
     "text": [
      "This rubbit is running!\n",
      "This fish is swimming!\n",
      "This hawk is flying!\n"
     ]
    }
   ],
   "source": [
    "rabbit.run()\n",
    "fish.swim()\n",
    "hawk.fly()"
   ]
  },
  {
   "cell_type": "code",
   "execution_count": null,
   "id": "cf7ff130",
   "metadata": {},
   "outputs": [],
   "source": []
  }
 ],
 "metadata": {
  "kernelspec": {
   "display_name": "Python 3 (ipykernel)",
   "language": "python",
   "name": "python3"
  },
  "language_info": {
   "codemirror_mode": {
    "name": "ipython",
    "version": 3
   },
   "file_extension": ".py",
   "mimetype": "text/x-python",
   "name": "python",
   "nbconvert_exporter": "python",
   "pygments_lexer": "ipython3",
   "version": "3.9.7"
  }
 },
 "nbformat": 4,
 "nbformat_minor": 5
}
