{
 "cells": [
  {
   "cell_type": "markdown",
   "id": "34400f81",
   "metadata": {},
   "source": [
    "# Methods"
   ]
  },
  {
   "cell_type": "markdown",
   "id": "0b4f9a6a",
   "metadata": {},
   "source": [
    "#### Defining and calling a method"
   ]
  },
  {
   "cell_type": "code",
   "execution_count": 21,
   "id": "d9a03bf0",
   "metadata": {},
   "outputs": [
    {
     "name": "stdout",
     "output_type": "stream",
     "text": [
      "bark\n"
     ]
    }
   ],
   "source": [
    "# Defining and calling our first call method\n",
    "class Dog():\n",
    "    def makeSound(self):\n",
    "        print('bark')\n",
    "        \n",
    "sam = Dog()\n",
    "sam.makeSound()"
   ]
  },
  {
   "cell_type": "markdown",
   "id": "03d276c4",
   "metadata": {},
   "source": [
    "####  Accessing class attributes in methods"
   ]
  },
  {
   "cell_type": "code",
   "execution_count": 24,
   "id": "d5ee8f72",
   "metadata": {},
   "outputs": [
    {
     "name": "stdout",
     "output_type": "stream",
     "text": [
      "bark\n"
     ]
    }
   ],
   "source": [
    "class Dog():\n",
    "    sound = 'bark'\n",
    "    def makeSound(self):\n",
    "        print(self.sound) # self required to access attributes defined in the class\n",
    "\n",
    "sam = Dog()\n",
    "sam.makeSound()"
   ]
  },
  {
   "cell_type": "markdown",
   "id": "d0fea0ae",
   "metadata": {},
   "source": [
    "#### Method scope"
   ]
  },
  {
   "cell_type": "code",
   "execution_count": 30,
   "id": "6c466197",
   "metadata": {},
   "outputs": [
    {
     "name": "stdout",
     "output_type": "stream",
     "text": [
      "Bark\n"
     ]
    }
   ],
   "source": [
    "# Understanding which method are accessible via the class itself and class instances\n",
    "class Dog():\n",
    "    sound = 'Bark'\n",
    "    def makeSound(self):\n",
    "        print(self.sound)\n",
    "    def printInfo():\n",
    "        print('I am a dog.')\n",
    "#Dog.printInfo() # This will run because in does not include self method\n",
    "\n",
    "#Dog.makeSound() # Would produce an error, self is in reference to instances only\n",
    "\n",
    "sam = Dog()\n",
    "sam.makeSound() # able to access, seldf can reference the instance of sam"
   ]
  },
  {
   "cell_type": "markdown",
   "id": "170c7b3a",
   "metadata": {},
   "source": [
    "#### Passing arguments into methods"
   ]
  },
  {
   "cell_type": "code",
   "execution_count": 33,
   "id": "8e3b4d81",
   "metadata": {},
   "outputs": [
    {
     "name": "stdout",
     "output_type": "stream",
     "text": [
      "9\n"
     ]
    }
   ],
   "source": [
    "# Writing methods that accept parameters\n",
    "class Dog():\n",
    "    def showAge(self, age):\n",
    "        print(age)\n",
    "\n",
    "sam = Dog()\n",
    "sam.showAge(9)"
   ]
  },
  {
   "cell_type": "markdown",
   "id": "6eac2de0",
   "metadata": {},
   "source": [
    "#### Using setters and getters"
   ]
  },
  {
   "cell_type": "code",
   "execution_count": 7,
   "id": "d97651d7",
   "metadata": {},
   "outputs": [
    {
     "data": {
      "text/plain": [
       "'Black'"
      ]
     },
     "execution_count": 7,
     "metadata": {},
     "output_type": "execute_result"
    }
   ],
   "source": [
    "# Using methods to set or return attribute values, proper programming practice\n",
    "class Dog():\n",
    "    me = ''  # would normally use init method to declare, this is for testing purposes\n",
    "    \n",
    "    def setName(self, new_name):\n",
    "        self.me = new_name    # Declares the new value for the new attribute\n",
    "        \n",
    "    def getName(self):\n",
    "        return self.me    # returns the value of the name attribute\n",
    "\n",
    "sam = Dog()\n",
    "sam.setName('Black')\n",
    "sam.getName()"
   ]
  },
  {
   "cell_type": "markdown",
   "id": "2668de34",
   "metadata": {},
   "source": [
    "#### Incrementing attributes with methods"
   ]
  },
  {
   "cell_type": "code",
   "execution_count": 11,
   "id": "6a7ff528",
   "metadata": {},
   "outputs": [
    {
     "data": {
      "text/plain": [
       "6"
      ]
     },
     "execution_count": 11,
     "metadata": {},
     "output_type": "execute_result"
    }
   ],
   "source": [
    "# Incrementing and decrementing attributes values with methods, best programming practice\n",
    "\n",
    "class Dog():\n",
    "    age = 5\n",
    "    def happyBirthday(self):\n",
    "        self.age += 1\n",
    "        \n",
    "sam = Dog()\n",
    "sam.happyBirthday()    # Should call methods first to increment value by 1\n",
    "sam.age       # better practice use getters, this is for testing purpose"
   ]
  },
  {
   "cell_type": "markdown",
   "id": "f6415dca",
   "metadata": {},
   "source": [
    "#### Methods calling methods"
   ]
  },
  {
   "cell_type": "code",
   "execution_count": 25,
   "id": "6e1949ec",
   "metadata": {},
   "outputs": [
    {
     "name": "stdout",
     "output_type": "stream",
     "text": [
      "Puppy\n"
     ]
    }
   ],
   "source": [
    "# Calling a class method from another method\n",
    "\n",
    "class Dog():\n",
    "    age = 6\n",
    "    def getAge(self):\n",
    "        return self.age\n",
    "    def printInfo(self):\n",
    "        if self.getAge() < 10:    # need self to call other method for instance\n",
    "            print('Puppy')\n",
    "    \n",
    "sam = Dog()\n",
    "sam.printInfo()"
   ]
  },
  {
   "cell_type": "markdown",
   "id": "5bacc0b0",
   "metadata": {},
   "source": [
    "#### Magic methods"
   ]
  },
  {
   "cell_type": "code",
   "execution_count": 33,
   "id": "13b20d89",
   "metadata": {},
   "outputs": [
    {
     "name": "stdout",
     "output_type": "stream",
     "text": [
      "This is a dog class\n"
     ]
    }
   ],
   "source": [
    "# Using magic methods\n",
    "\n",
    "class Dog():\n",
    "    def __str__(self):\n",
    "        return 'This is a dog class'\n",
    "sam = Dog()\n",
    "print(sam)   # will print the return of the string magic method"
   ]
  },
  {
   "cell_type": "markdown",
   "id": "2d10d098",
   "metadata": {},
   "source": [
    "# Exercises"
   ]
  },
  {
   "cell_type": "markdown",
   "id": "0077d793",
   "metadata": {},
   "source": [
    "#### Animals: Create a class definition of an animal that has a species attribute and both a setter and getter to change or access the attributes value. Create an instance called “lion,” and call the setter method with an argument of “feline.” Then print out the species by calling the getter method"
   ]
  },
  {
   "cell_type": "code",
   "execution_count": 34,
   "id": "c513f2c8",
   "metadata": {},
   "outputs": [
    {
     "data": {
      "text/plain": [
       "'feline'"
      ]
     },
     "execution_count": 34,
     "metadata": {},
     "output_type": "execute_result"
    }
   ],
   "source": [
    "class Animal():\n",
    "    species = ''\n",
    "    \n",
    "    def setSpecies(self, name):   # Our setter\n",
    "        self.species = name\n",
    "        \n",
    "    def getSpecies(self):         # The getter\n",
    "        return self.species\n",
    "\n",
    "lion = Animal()                   # Our instance\n",
    "lion.setSpecies('feline')         # call the setter\n",
    "lion.getSpecies()                 # Print out the species"
   ]
  },
  {
   "cell_type": "markdown",
   "id": "5bcbfb26",
   "metadata": {},
   "source": [
    "#### User Input: Create a class Person that takes in a name when instantiated but sets an age to 0. Within the class definition setup, a setter and getter that will ask the user to input their age and set the age attribute to the value input. then output the information in a formatted string as “You are 64 years old.” assuming the user inputs 64 as their age."
   ]
  },
  {
   "cell_type": "code",
   "execution_count": null,
   "id": "c5757c76",
   "metadata": {},
   "outputs": [],
   "source": [
    "class Person():\n",
    "    age = 0\n",
    "    \n",
    "    def setAge(self):\n",
    "        self.age = input('Enter your age: ')\n",
    "        \n",
    "    def getAge(self):\n",
    "        return 'You are {} years old'.format(self.age)\n",
    "\n",
    "me = Person()\n",
    "me.setAge()\n",
    "me.getAge()"
   ]
  },
  {
   "cell_type": "code",
   "execution_count": null,
   "id": "92fba083",
   "metadata": {},
   "outputs": [],
   "source": []
  }
 ],
 "metadata": {
  "kernelspec": {
   "display_name": "Python 3 (ipykernel)",
   "language": "python",
   "name": "python3"
  },
  "language_info": {
   "codemirror_mode": {
    "name": "ipython",
    "version": 3
   },
   "file_extension": ".py",
   "mimetype": "text/x-python",
   "name": "python",
   "nbconvert_exporter": "python",
   "pygments_lexer": "ipython3",
   "version": "3.9.7"
  }
 },
 "nbformat": 4,
 "nbformat_minor": 5
}
