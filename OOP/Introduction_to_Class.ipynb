{
 "cells": [
  {
   "cell_type": "markdown",
   "id": "6624963d",
   "metadata": {},
   "source": [
    "# Creating and instantiating a class"
   ]
  },
  {
   "cell_type": "markdown",
   "id": "cc8d2093",
   "metadata": {},
   "source": [
    "##### Creating my first class"
   ]
  },
  {
   "cell_type": "code",
   "execution_count": 1,
   "id": "3c3d200f",
   "metadata": {},
   "outputs": [],
   "source": [
    "class Car():\n",
    "    pass"
   ]
  },
  {
   "cell_type": "markdown",
   "id": "1bb7c5ac",
   "metadata": {},
   "source": [
    "##### Creating an instance"
   ]
  },
  {
   "cell_type": "code",
   "execution_count": 2,
   "id": "718c87fe",
   "metadata": {},
   "outputs": [
    {
     "name": "stdout",
     "output_type": "stream",
     "text": [
      "<__main__.Car object at 0x7fea3b866220>\n"
     ]
    }
   ],
   "source": [
    "class Car():\n",
    "    pass\n",
    "ford = Car() # creates an instance of the Car class and stores into variable ford\n",
    "print(ford)"
   ]
  },
  {
   "cell_type": "markdown",
   "id": "4439822e",
   "metadata": {},
   "source": [
    "##### Creating multiple instances"
   ]
  },
  {
   "cell_type": "code",
   "execution_count": 5,
   "id": "ec6ed913",
   "metadata": {},
   "outputs": [],
   "source": [
    "class Car():\n",
    "    pass\n",
    "ford = Car()\n",
    "subaru = Car() # Creates another object from the class car"
   ]
  },
  {
   "cell_type": "markdown",
   "id": "d113ad74",
   "metadata": {},
   "source": [
    "# Exercise"
   ]
  },
  {
   "cell_type": "markdown",
   "id": "dbb7d0ce",
   "metadata": {},
   "source": [
    "##### Animals: Create a class called “animals,” and create two instances from it. Use two variables with names of “lion” and “tiger.”"
   ]
  },
  {
   "cell_type": "code",
   "execution_count": 4,
   "id": "f07e74e2",
   "metadata": {},
   "outputs": [],
   "source": [
    "class Animals():\n",
    "    pass\n",
    "lion = Animals()\n",
    "tiger = Animals()"
   ]
  },
  {
   "cell_type": "markdown",
   "id": "5ff1b1c2",
   "metadata": {},
   "source": [
    "# Attributes"
   ]
  },
  {
   "cell_type": "markdown",
   "id": "41330a90",
   "metadata": {},
   "source": [
    "##### How to define a class attribute"
   ]
  },
  {
   "cell_type": "code",
   "execution_count": 6,
   "id": "14568e75",
   "metadata": {},
   "outputs": [],
   "source": [
    "class Car():\n",
    "    sound = 'beep'\n",
    "    color = 'red'"
   ]
  },
  {
   "cell_type": "code",
   "execution_count": 7,
   "id": "50909c85",
   "metadata": {},
   "outputs": [
    {
     "data": {
      "text/plain": [
       "'beep'"
      ]
     },
     "execution_count": 7,
     "metadata": {},
     "output_type": "execute_result"
    }
   ],
   "source": [
    "ford = Car()\n",
    "ford.sound\n",
    "# every instance created from the car class will be given the sound 'beep' and the color 'red'"
   ]
  },
  {
   "cell_type": "markdown",
   "id": "0fbcee85",
   "metadata": {},
   "source": [
    "##### Changing an instance attribute"
   ]
  },
  {
   "cell_type": "code",
   "execution_count": 17,
   "id": "91518486",
   "metadata": {},
   "outputs": [
    {
     "data": {
      "text/plain": [
       "'honk'"
      ]
     },
     "execution_count": 17,
     "metadata": {},
     "output_type": "execute_result"
    }
   ],
   "source": [
    "class Car():\n",
    "    sound = 'beep'\n",
    "    color = 'red'\n",
    "ford = Car()\n",
    "ford.sound\n",
    "\n",
    "# Changing the sound\n",
    "ford.sound = 'honk'\n",
    "\n",
    "ford.sound # This will output 'honk'"
   ]
  },
  {
   "cell_type": "markdown",
   "id": "358b2ad7",
   "metadata": {},
   "source": [
    "##### Using the _ _init_ _ method"
   ]
  },
  {
   "cell_type": "code",
   "execution_count": 20,
   "id": "c12cf221",
   "metadata": {},
   "outputs": [],
   "source": [
    "# using the init method to give instances personalised attributes upon creation\n",
    "class Car():\n",
    "    def __init__(self,color):\n",
    "        self.color = color\n",
    "        \n",
    "ford = Car('Blue') # instanciating a Car class with the color blue"
   ]
  },
  {
   "cell_type": "markdown",
   "id": "42eac95d",
   "metadata": {},
   "source": [
    "##### Instantiationg multiple obects with _ _init_ _"
   ]
  },
  {
   "cell_type": "code",
   "execution_count": 21,
   "id": "c83cb564",
   "metadata": {},
   "outputs": [
    {
     "data": {
      "text/plain": [
       "('blue', 2016)"
      ]
     },
     "execution_count": 21,
     "metadata": {},
     "output_type": "execute_result"
    }
   ],
   "source": [
    "class Car():\n",
    "    def __init__(self, color, year):\n",
    "        self.color = color\n",
    "        self.year = year\n",
    "\n",
    "# Create a car object with the color blue and year 2016\n",
    "ford = Car('blue', 2016)\n",
    "\n",
    "# Create a car object with the colord red and year 2018\n",
    "subaru = Car('red', 2018)\n",
    "\n",
    "(ford.color,ford.year)"
   ]
  },
  {
   "cell_type": "markdown",
   "id": "75866acc",
   "metadata": {},
   "source": [
    "##### Global attributes vs instance attributes"
   ]
  },
  {
   "cell_type": "code",
   "execution_count": 34,
   "id": "43cedc89",
   "metadata": {},
   "outputs": [
    {
     "name": "stdout",
     "output_type": "stream",
     "text": [
      "beep blue\n"
     ]
    }
   ],
   "source": [
    "# Using and accessing global class attributes\n",
    "class Car():\n",
    "    sound = 'beep' # global attribute, accessible through the class itself\n",
    "    def __init__(self, color):\n",
    "        self.color = color # instance specific attribute, not accessible through the class itself\n",
    "        \n",
    "#print(Car.color) # wont work, as color is only available to instances of the car class, not the class itself\n",
    "\n",
    "ford = Car('blue')\n",
    "print(ford.sound, ford.color) # color will work as this in an instance"
   ]
  },
  {
   "cell_type": "markdown",
   "id": "c4408fe0",
   "metadata": {},
   "source": [
    "# Exercises"
   ]
  },
  {
   "cell_type": "markdown",
   "id": "f8890cd7",
   "metadata": {},
   "source": [
    "#### Dogs: Create a Dog class that has one global attribute and two instance level attributes. the global attribute should be “species” with a value of “Canine.” the two instance attributes should be “name” and “breed.” then instantiate two dog objects, a Husky named Sammi and a Chocolate Lab named Casey"
   ]
  },
  {
   "cell_type": "code",
   "execution_count": 39,
   "id": "f6051297",
   "metadata": {},
   "outputs": [
    {
     "name": "stdout",
     "output_type": "stream",
     "text": [
      "Sammi Husky\n",
      "Casey Chocolate_Lab\n"
     ]
    }
   ],
   "source": [
    "class Dogs():\n",
    "    species = 'Canine'\n",
    "    def __init__(self, name, breed):\n",
    "        self.name = name\n",
    "        self.breed = breed\n",
    "first_dog = Dogs('Sammi', 'Husky')\n",
    "second_dog = Dogs('Casey', 'Chocolate_Lab')\n",
    "print(first_dog.name, first_dog.breed)\n",
    "print(second_dog.name, second_dog.breed)"
   ]
  },
  {
   "cell_type": "markdown",
   "id": "145c14b3",
   "metadata": {},
   "source": [
    "#### User Input: Create a Person class that has a single instance level attribute of “name.” ask the user to input their name, and create an instance of the Person class with the name they typed in. then print out their name"
   ]
  },
  {
   "cell_type": "code",
   "execution_count": 3,
   "id": "2df9773f",
   "metadata": {},
   "outputs": [
    {
     "name": "stdout",
     "output_type": "stream",
     "text": [
      "Enter your name here: Mamy\n",
      "The user name is: Mamy\n"
     ]
    }
   ],
   "source": [
    "class Person():\n",
    "    def __init__(self, name):\n",
    "        self.name = name\n",
    "        \n",
    "# Ask the user\n",
    "user_input_name = input('Enter your name here: ')\n",
    "\n",
    "user_name = Person(user_input_name)\n",
    "\n",
    "\n",
    "# print name\n",
    "print('The user name is: {}'.format(user_name.name))"
   ]
  },
  {
   "cell_type": "code",
   "execution_count": null,
   "id": "4ef58dce",
   "metadata": {},
   "outputs": [],
   "source": []
  }
 ],
 "metadata": {
  "kernelspec": {
   "display_name": "Python 3 (ipykernel)",
   "language": "python",
   "name": "python3"
  },
  "language_info": {
   "codemirror_mode": {
    "name": "ipython",
    "version": 3
   },
   "file_extension": ".py",
   "mimetype": "text/x-python",
   "name": "python",
   "nbconvert_exporter": "python",
   "pygments_lexer": "ipython3",
   "version": "3.9.7"
  }
 },
 "nbformat": 4,
 "nbformat_minor": 5
}
