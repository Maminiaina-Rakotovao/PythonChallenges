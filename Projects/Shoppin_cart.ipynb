{
 "cells": [
  {
   "cell_type": "markdown",
   "id": "b766090e",
   "metadata": {},
   "source": [
    "# Chopping cart project"
   ]
  },
  {
   "cell_type": "markdown",
   "id": "58885c97",
   "metadata": {},
   "source": [
    "This project create an application that stores products within a list.",
    "We are able to add, remove, clear and show the products in the cart."
   ]
  },
  {
   "cell_type": "code",
   "execution_count": 1,
   "id": "2e682ae9",
   "metadata": {},
   "outputs": [
    {
     "name": "stdout",
     "output_type": "stream",
     "text": [
      "What do you want to do with you cart,\n",
      " quit/add/remove/show/clear? add\n",
      "Enter the item you want to addmilk\n",
      "Milk has been added.\n",
      "What do you want to do with you cart,\n",
      " quit/add/remove/show/clear? add\n",
      "Enter the item you want to addSugar\n",
      "Sugar has been added.\n",
      "What do you want to do with you cart,\n",
      " quit/add/remove/show/clear? quit\n",
      "Thank you!\n",
      "Here is your cart\n",
      "- Milk\n",
      "- Sugar\n"
     ]
    }
   ],
   "source": [
    "# Global list variable\n",
    "cart = []\n",
    "\n",
    "# Create a function to add items to cart\n",
    "def Additem(item):\n",
    "    cart.append(item)\n",
    "    print('{} has been added.'.format(item))\n",
    "    \n",
    "# Create a function to remove items from cart\n",
    "def Removeitem(item):\n",
    "    try:\n",
    "        cart.remove(item)\n",
    "        print('{} has been removed'.format(item))\n",
    "    except:\n",
    "        print('Sorry could not remove that item')\n",
    "        \n",
    "# Create a function to show items in the cart\n",
    "def Showcart():\n",
    "    if cart:\n",
    "        print('Here is your cart')\n",
    "        for item in cart:\n",
    "            print('- {}'.format(item))\n",
    "    else:\n",
    "        print('Cart is empty.')\n",
    "    \n",
    "# Create function to clear items from cart\n",
    "def Clearitem():\n",
    "    cart.clear()\n",
    "    print('Cart is empty.')\n",
    "    \n",
    "\n",
    "# Create the main function until user quits\n",
    "def main():\n",
    "    done = False\n",
    "    while not done:\n",
    "        ans = input('What do you want to do with you cart,\\n quit/add/remove/show/clear? ').lower()\n",
    "        if ans == 'quit':\n",
    "            print('Thank you!')\n",
    "            Showcart()\n",
    "            done = True\n",
    "        elif ans == 'add':\n",
    "            item = input('Enter the item you want to add').title()\n",
    "            Additem(item)\n",
    "        elif ans == 'remove':\n",
    "            Showcart()\n",
    "            item = input('What item would you want to remove?').title()\n",
    "            Removeitem(item)\n",
    "        elif ans == 'show':\n",
    "            Showcart()\n",
    "        elif ans == 'clear':\n",
    "            Clearitem()\n",
    "        else:\n",
    "            print('That was not an option!')\n",
    "\n",
    "# Call the main function\n",
    "main()"
   ]
  },
  {
   "cell_type": "code",
   "execution_count": null,
   "id": "985a256a",
   "metadata": {},
   "outputs": [],
   "source": []
  },
  {
   "cell_type": "code",
   "execution_count": null,
   "id": "8745b89c",
   "metadata": {},
   "outputs": [],
   "source": []
  },
  {
   "cell_type": "code",
   "execution_count": null,
   "id": "8623e681",
   "metadata": {},
   "outputs": [],
   "source": []
  }
 ],
 "metadata": {
  "kernelspec": {
   "display_name": "Python 3 (ipykernel)",
   "language": "python",
   "name": "python3"
  },
  "language_info": {
   "codemirror_mode": {
    "name": "ipython",
    "version": 3
   },
   "file_extension": ".py",
   "mimetype": "text/x-python",
   "name": "python",
   "nbconvert_exporter": "python",
   "pygments_lexer": "ipython3",
   "version": "3.9.7"
  }
 },
 "nbformat": 4,
 "nbformat_minor": 5
}
